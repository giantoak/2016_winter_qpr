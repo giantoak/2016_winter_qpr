{
 "cells": [
  {
   "cell_type": "code",
   "execution_count": 1,
   "metadata": {
    "collapsed": false
   },
   "outputs": [],
   "source": [
    "from itertools import chain\n",
    "import html\n",
    "import ujson as json\n",
    "import numpy as np\n",
    "import pandas as pd\n",
    "import seaborn as sns\n",
    "from sklearn.linear_model import LinearRegression\n",
    "\n",
    "%matplotlib inline\n",
    "sns.set(context='talk', font='monospace')\n",
    "df = pd.read_pickle('../armslist_data.pkl')\n",
    "\n",
    "lr = LinearRegression()"
   ]
  },
  {
   "cell_type": "markdown",
   "metadata": {},
   "source": [
    "# Linear Regressions Against Price\n",
    "\n",
    "## Setup"
   ]
  },
  {
   "cell_type": "code",
   "execution_count": 10,
   "metadata": {
    "collapsed": false
   },
   "outputs": [],
   "source": [
    "df = df.ix[(df.price_usd >= 50) & (df.price_usd <= 4000), :]\n",
    "df = df.ix[~(df.manufacturer.isin([' ', '', '?'])), :]\n",
    "df = df.ix[df.manufacturer.notnull(), :]\n",
    "df = df.ix[~(df.manufacturer.isin([' ', '', '?'])), :]\n",
    "df = df.ix[df.caliber.notnull(), :]"
   ]
  },
  {
   "cell_type": "markdown",
   "metadata": {},
   "source": [
    "### Caliber, Caliber (Split) and Manufacturer"
   ]
  },
  {
   "cell_type": "code",
   "execution_count": 11,
   "metadata": {
    "collapsed": false
   },
   "outputs": [
    {
     "name": "stdout",
     "output_type": "stream",
     "text": [
      "(520,)\n",
      "8.32063612929e+14\n"
     ]
    },
    {
     "data": {
      "text/plain": [
       "0.4548311462259626"
      ]
     },
     "execution_count": 11,
     "metadata": {},
     "output_type": "execute_result"
    }
   ],
   "source": [
    "df_X = pd.get_dummies(df.ix[:, ['manufacturer', 'caliber', 'caliber_nums', 'caliber_chars']])\n",
    "lr.fit(df_X, df.price_usd)\n",
    "print(lr.coef_.shape)\n",
    "print(lr.intercept_)\n",
    "lr.score(df_X, df.price_usd)"
   ]
  },
  {
   "cell_type": "markdown",
   "metadata": {},
   "source": [
    "### Caliber (Split) and Manufacturer"
   ]
  },
  {
   "cell_type": "code",
   "execution_count": 12,
   "metadata": {
    "collapsed": false
   },
   "outputs": [
    {
     "name": "stdout",
     "output_type": "stream",
     "text": [
      "(350,)\n",
      "-6.56458762971e+14\n"
     ]
    },
    {
     "data": {
      "text/plain": [
       "0.45474077770615062"
      ]
     },
     "execution_count": 12,
     "metadata": {},
     "output_type": "execute_result"
    }
   ],
   "source": [
    "df_X = pd.get_dummies(df.ix[:, ['manufacturer', 'caliber_nums', 'caliber_chars']])\n",
    "lr.fit(df_X, df.price_usd)\n",
    "print(lr.coef_.shape)\n",
    "print(lr.intercept_)\n",
    "lr.score(df_X, df.price_usd)"
   ]
  },
  {
   "cell_type": "markdown",
   "metadata": {},
   "source": [
    " ### Caliber (full) and Manufacturer"
   ]
  },
  {
   "cell_type": "code",
   "execution_count": 13,
   "metadata": {
    "collapsed": false
   },
   "outputs": [
    {
     "name": "stdout",
     "output_type": "stream",
     "text": [
      "(265,)\n",
      "-5.98470572445e+14\n"
     ]
    },
    {
     "data": {
      "text/plain": [
       "0.43930641467545417"
      ]
     },
     "execution_count": 13,
     "metadata": {},
     "output_type": "execute_result"
    }
   ],
   "source": [
    "df_X = pd.get_dummies(df.ix[:, ['manufacturer', 'caliber_nums']])\n",
    "lr.fit(df_X, df.price_usd)\n",
    "print(lr.coef_.shape)\n",
    "print(lr.intercept_)\n",
    "lr.score(df_X, df.price_usd)"
   ]
  },
  {
   "cell_type": "markdown",
   "metadata": {},
   "source": [
    "### Manufacturer"
   ]
  },
  {
   "cell_type": "code",
   "execution_count": 14,
   "metadata": {
    "collapsed": false
   },
   "outputs": [
    {
     "name": "stdout",
     "output_type": "stream",
     "text": [
      "(154,)\n",
      "-5.41134861118e+13\n"
     ]
    },
    {
     "data": {
      "text/plain": [
       "0.30434226222537619"
      ]
     },
     "execution_count": 14,
     "metadata": {},
     "output_type": "execute_result"
    }
   ],
   "source": [
    "df_X = pd.get_dummies(df.ix[:, ['manufacturer']])\n",
    "lr.fit(df_X, df.price_usd)\n",
    "print(lr.coef_.shape)\n",
    "print(lr.intercept_)\n",
    "lr.score(df_X, df.price_usd)"
   ]
  },
  {
   "cell_type": "markdown",
   "metadata": {
    "collapsed": true
   },
   "source": [
    "### Caliber (split)"
   ]
  },
  {
   "cell_type": "code",
   "execution_count": 15,
   "metadata": {
    "collapsed": false
   },
   "outputs": [
    {
     "name": "stdout",
     "output_type": "stream",
     "text": [
      "(196,)\n",
      "-2.29007375147e+14\n"
     ]
    },
    {
     "data": {
      "text/plain": [
       "0.26145072639702371"
      ]
     },
     "execution_count": 15,
     "metadata": {},
     "output_type": "execute_result"
    }
   ],
   "source": [
    "df_X = pd.get_dummies(df.ix[:, ['caliber_nums', 'caliber_chars']])\n",
    "lr.fit(df_X, df.price_usd)\n",
    "print(lr.coef_.shape)\n",
    "print(lr.intercept_)\n",
    "lr.score(df_X, df.price_usd)"
   ]
  },
  {
   "cell_type": "markdown",
   "metadata": {},
   "source": [
    "### Caliber, Caliber (Split), Manufacturer, Category_2, Category_3"
   ]
  },
  {
   "cell_type": "code",
   "execution_count": 16,
   "metadata": {
    "collapsed": false
   },
   "outputs": [
    {
     "name": "stdout",
     "output_type": "stream",
     "text": [
      "(546,)\n",
      "-1.98849658219e+14\n"
     ]
    },
    {
     "data": {
      "text/plain": [
       "0.45943226210233801"
      ]
     },
     "execution_count": 16,
     "metadata": {},
     "output_type": "execute_result"
    }
   ],
   "source": [
    "df_X = pd.get_dummies(df.ix[:, ['category_2', 'category_3', 'manufacturer', 'caliber', 'caliber_nums', 'caliber_chars']])\n",
    "lr.fit(df_X, df.price_usd)\n",
    "print(lr.coef_.shape)\n",
    "print(lr.intercept_)\n",
    "lr.score(df_X, df.price_usd)"
   ]
  },
  {
   "cell_type": "markdown",
   "metadata": {},
   "source": [
    "### Caliber, Caliber (Split), Manufacturer, Category_3"
   ]
  },
  {
   "cell_type": "code",
   "execution_count": 17,
   "metadata": {
    "collapsed": false
   },
   "outputs": [
    {
     "name": "stdout",
     "output_type": "stream",
     "text": [
      "(529,)\n",
      "-3.39427346414e+14\n"
     ]
    },
    {
     "data": {
      "text/plain": [
       "0.45870502083568876"
      ]
     },
     "execution_count": 17,
     "metadata": {},
     "output_type": "execute_result"
    }
   ],
   "source": [
    "df_X = pd.get_dummies(df.ix[:, ['category_3', 'manufacturer', 'caliber', 'caliber_nums', 'caliber_chars']])\n",
    "lr.fit(df_X, df.price_usd)\n",
    "print(lr.coef_.shape)\n",
    "print(lr.intercept_)\n",
    "lr.score(df_X, df.price_usd)"
   ]
  },
  {
   "cell_type": "markdown",
   "metadata": {},
   "source": [
    "### Caliber, Caliber (Split), Manufacturer, Category_2"
   ]
  },
  {
   "cell_type": "code",
   "execution_count": 18,
   "metadata": {
    "collapsed": false
   },
   "outputs": [
    {
     "name": "stdout",
     "output_type": "stream",
     "text": [
      "(537,)\n",
      "1.99473332861e+13\n"
     ]
    },
    {
     "data": {
      "text/plain": [
       "0.45768923106322346"
      ]
     },
     "execution_count": 18,
     "metadata": {},
     "output_type": "execute_result"
    }
   ],
   "source": [
    "df_X = pd.get_dummies(df.ix[:, ['category_2', 'manufacturer', 'caliber', 'caliber_nums', 'caliber_chars']])\n",
    "lr.fit(df_X, df.price_usd)\n",
    "print(lr.coef_.shape)\n",
    "print(lr.intercept_)\n",
    "lr.score(df_X, df.price_usd)"
   ]
  },
  {
   "cell_type": "markdown",
   "metadata": {},
   "source": [
    "### Category_2, Category_3"
   ]
  },
  {
   "cell_type": "code",
   "execution_count": 19,
   "metadata": {
    "collapsed": false
   },
   "outputs": [
    {
     "name": "stdout",
     "output_type": "stream",
     "text": [
      "(26,)\n",
      "-8.23790910345e+13\n"
     ]
    },
    {
     "data": {
      "text/plain": [
       "0.065160908160569631"
      ]
     },
     "execution_count": 19,
     "metadata": {},
     "output_type": "execute_result"
    }
   ],
   "source": [
    "df_X = pd.get_dummies(df.ix[:, ['category_2', 'category_3']])\n",
    "lr.fit(df_X, df.price_usd)\n",
    "print(lr.coef_.shape)\n",
    "print(lr.intercept_)\n",
    "lr.score(df_X, df.price_usd)"
   ]
  },
  {
   "cell_type": "markdown",
   "metadata": {},
   "source": [
    "# Linear Regressions Against Log of Price\n",
    "\n",
    "## Category_2, Category_3, Manufacturer, Caliber"
   ]
  },
  {
   "cell_type": "code",
   "execution_count": 20,
   "metadata": {
    "collapsed": false
   },
   "outputs": [
    {
     "name": "stdout",
     "output_type": "stream",
     "text": [
      "(350,)\n",
      "244536482793.0\n"
     ]
    },
    {
     "data": {
      "text/plain": [
       "0.51674725081701034"
      ]
     },
     "execution_count": 20,
     "metadata": {},
     "output_type": "execute_result"
    }
   ],
   "source": [
    "df_X = pd.get_dummies(df.ix[:, ['category_2', 'category_3', 'manufacturer', 'caliber']])\n",
    "lr.fit(df_X, df.price_usd.apply(np.log))\n",
    "print(lr.coef_.shape)\n",
    "print(lr.intercept_)\n",
    "lr.score(df_X, df.price_usd.apply(np.log))"
   ]
  },
  {
   "cell_type": "markdown",
   "metadata": {},
   "source": [
    "## Manufacturer, Caliber"
   ]
  },
  {
   "cell_type": "code",
   "execution_count": 38,
   "metadata": {
    "collapsed": false
   },
   "outputs": [
    {
     "name": "stdout",
     "output_type": "stream",
     "text": [
      "(324,)\n",
      "-84192845863.4\n"
     ]
    },
    {
     "data": {
      "text/plain": [
       "0.53791073694284131"
      ]
     },
     "execution_count": 38,
     "metadata": {},
     "output_type": "execute_result"
    }
   ],
   "source": [
    "df_X = pd.get_dummies(df.ix[:, ['manufacturer', 'caliber']])\n",
    "lr.fit(df_X, df.price_usd.apply(np.log))\n",
    "print(lr.coef_.shape)\n",
    "print(lr.intercept_)\n",
    "lr.score(df_X, df.price_usd.apply(np.log))"
   ]
  },
  {
   "cell_type": "markdown",
   "metadata": {
    "collapsed": true
   },
   "source": [
    "# Linear Regressions Against Risk Scores\n",
    "\n",
    "We should be doing some train/test splits, but first things first."
   ]
  },
  {
   "cell_type": "code",
   "execution_count": 47,
   "metadata": {
    "collapsed": false
   },
   "outputs": [],
   "source": [
    "cp2_df = pd.read_pickle('../cp2_data.pkl')\n",
    "risk_map = {'low': 0.0, 'medium': 0.5, 'high': 1.0}\n",
    "cp2_df['risk_as_num'] = cp2_df.risk_profile.apply(lambda x: risk_map[x])\n",
    "cp2_df = cp2_df.ix[~(cp2_df.manufacturer.isin([' ', '', '?'])), :]\n",
    "cp2_df = cp2_df.ix[cp2_df.manufacturer.notnull(), :]\n",
    "cp2_df = cp2_df.ix[~(cp2_df.manufacturer.isin([' ', '', '?'])), :]\n",
    "cp2_df = cp2_df.ix[cp2_df.caliber.notnull(), :]\n",
    "cp2_df = cp2_df.dropna()"
   ]
  },
  {
   "cell_type": "code",
   "execution_count": 48,
   "metadata": {
    "collapsed": false
   },
   "outputs": [
    {
     "name": "stdout",
     "output_type": "stream",
     "text": [
      "(174,)\n",
      "655125011.436\n"
     ]
    },
    {
     "data": {
      "text/plain": [
       "0.33249356306196431"
      ]
     },
     "execution_count": 48,
     "metadata": {},
     "output_type": "execute_result"
    }
   ],
   "source": [
    "df_X = pd.get_dummies(cp2_df.ix[:, ['category_2', 'category_3', 'manufacturer', 'caliber', 'price_usd']])\n",
    "lr.fit(df_X, cp2_df.risk_as_num)\n",
    "print(lr.coef_.shape)\n",
    "print(lr.intercept_)\n",
    "lr.score(df_X, cp2_df.risk_as_num)"
   ]
  },
  {
   "cell_type": "code",
   "execution_count": 49,
   "metadata": {
    "collapsed": true
   },
   "outputs": [],
   "source": [
    "cp2_df = cp2_df.ix[(cp2_df.price_usd >= 50) & (cp2_df.price_usd <= 4000), :]"
   ]
  },
  {
   "cell_type": "code",
   "execution_count": 50,
   "metadata": {
    "collapsed": false
   },
   "outputs": [
    {
     "name": "stdout",
     "output_type": "stream",
     "text": [
      "(171,)\n",
      "286785116.256\n"
     ]
    },
    {
     "data": {
      "text/plain": [
       "0.32489943329740817"
      ]
     },
     "execution_count": 50,
     "metadata": {},
     "output_type": "execute_result"
    }
   ],
   "source": [
    "df_X = pd.get_dummies(cp2_df.ix[:, ['category_2', 'category_3', 'manufacturer', 'caliber', 'price_usd']])\n",
    "lr.fit(df_X, cp2_df.risk_as_num)\n",
    "print(lr.coef_.shape)\n",
    "print(lr.intercept_)\n",
    "lr.score(df_X, cp2_df.risk_as_num)"
   ]
  }
 ],
 "metadata": {
  "kernelspec": {
   "display_name": "Python 3",
   "language": "python",
   "name": "python3"
  },
  "language_info": {
   "codemirror_mode": {
    "name": "ipython",
    "version": 3
   },
   "file_extension": ".py",
   "mimetype": "text/x-python",
   "name": "python",
   "nbconvert_exporter": "python",
   "pygments_lexer": "ipython3",
   "version": "3.5.1"
  }
 },
 "nbformat": 4,
 "nbformat_minor": 0
}
