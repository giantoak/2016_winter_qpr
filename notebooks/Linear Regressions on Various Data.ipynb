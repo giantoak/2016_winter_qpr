{
 "cells": [
  {
   "cell_type": "code",
   "execution_count": 1,
   "metadata": {
    "collapsed": false
   },
   "outputs": [],
   "source": [
    "from itertools import chain\n",
    "import html\n",
    "import ujson as json\n",
    "import numpy as np\n",
    "import pandas as pd\n",
    "import seaborn as sns\n",
    "from sklearn.linear_model import LinearRegression\n",
    "\n",
    "%matplotlib inline\n",
    "sns.set(context='talk', font='monospace')\n",
    "df = pd.read_pickle('../armslist_data.pkl')\n",
    "\n",
    "lr = LinearRegression()"
   ]
  },
  {
   "cell_type": "code",
   "execution_count": 2,
   "metadata": {
    "collapsed": false
   },
   "outputs": [
    {
     "data": {
      "text/plain": [
       "Index(['cdr_id', 'vendor_type', 'category_2', 'category_3', 'manufacturer',\n",
       "       'caliber', 'price_usd', 'caliber_nums', 'caliber_chars', 'cluster_id',\n",
       "       'cluster_size'],\n",
       "      dtype='object')"
      ]
     },
     "execution_count": 2,
     "metadata": {},
     "output_type": "execute_result"
    }
   ],
   "source": [
    "df.columns"
   ]
  },
  {
   "cell_type": "code",
   "execution_count": 3,
   "metadata": {
    "collapsed": false
   },
   "outputs": [],
   "source": [
    "df = df.ix[(df.price_usd >= 50) & (df.price_usd <= 4000), :]\n",
    "df = df.ix[~(df.manufacturer == ''), :]\n",
    "df = df.ix[~(df.manufacturer == '?'), :]\n",
    "df = df.ix[df.manufacturer.notnull(), :]\n",
    "df = df.ix[~(df.caliber == ''), :]\n",
    "df = df.ix[~(df.caliber == '?'), :]\n",
    "df = df.ix[df.caliber.notnull(), :]"
   ]
  },
  {
   "cell_type": "markdown",
   "metadata": {},
   "source": [
    "### Caliber, Caliber (Split) and Manufacturer"
   ]
  },
  {
   "cell_type": "code",
   "execution_count": 21,
   "metadata": {
    "collapsed": false
   },
   "outputs": [
    {
     "name": "stdout",
     "output_type": "stream",
     "text": [
      "(520,)\n",
      "3.49629987416e+14\n"
     ]
    },
    {
     "data": {
      "text/plain": [
       "0.47735789495507391"
      ]
     },
     "execution_count": 21,
     "metadata": {},
     "output_type": "execute_result"
    }
   ],
   "source": [
    "df_X = pd.get_dummies(df.ix[:, ['manufacturer', 'caliber', 'caliber_nums', 'caliber_chars']])\n",
    "lr.fit(df_X, df.price_usd)\n",
    "print(lr.coef_.shape)\n",
    "print(lr.intercept_)\n",
    "lr.score(df_X, df.price_usd)"
   ]
  },
  {
   "cell_type": "markdown",
   "metadata": {},
   "source": [
    "### Caliber (Split) and Manufacturer"
   ]
  },
  {
   "cell_type": "code",
   "execution_count": 12,
   "metadata": {
    "collapsed": false
   },
   "outputs": [
    {
     "name": "stdout",
     "output_type": "stream",
     "text": [
      "(350,)\n",
      "-1.23413390986e+15\n"
     ]
    },
    {
     "data": {
      "text/plain": [
       "0.47702426522696761"
      ]
     },
     "execution_count": 12,
     "metadata": {},
     "output_type": "execute_result"
    }
   ],
   "source": [
    "df_X = pd.get_dummies(df.ix[:, ['manufacturer', 'caliber_nums', 'caliber_chars']])\n",
    "lr.fit(df_X, df.price_usd)\n",
    "print(lr.coef_.shape)\n",
    "print(lr.intercept_)\n",
    "lr.score(df_X, df.price_usd)"
   ]
  },
  {
   "cell_type": "markdown",
   "metadata": {},
   "source": [
    " ### Caliber (full) and Manufacturer"
   ]
  },
  {
   "cell_type": "code",
   "execution_count": 16,
   "metadata": {
    "collapsed": false
   },
   "outputs": [
    {
     "name": "stdout",
     "output_type": "stream",
     "text": [
      "(265,)\n",
      "-9.18619322918e+13\n"
     ]
    },
    {
     "data": {
      "text/plain": [
       "0.46061179186030099"
      ]
     },
     "execution_count": 16,
     "metadata": {},
     "output_type": "execute_result"
    }
   ],
   "source": [
    "df_X = pd.get_dummies(df.ix[:, ['manufacturer', 'caliber_nums']])\n",
    "lr.fit(df_X, df.price_usd)\n",
    "print(lr.coef_.shape)\n",
    "print(lr.intercept_)\n",
    "lr.score(df_X, df.price_usd)"
   ]
  },
  {
   "cell_type": "markdown",
   "metadata": {},
   "source": [
    "### Manufacturer"
   ]
  },
  {
   "cell_type": "code",
   "execution_count": 17,
   "metadata": {
    "collapsed": false
   },
   "outputs": [
    {
     "name": "stdout",
     "output_type": "stream",
     "text": [
      "(154,)\n",
      "2.80734184064e+13\n"
     ]
    },
    {
     "data": {
      "text/plain": [
       "0.31258590868664593"
      ]
     },
     "execution_count": 17,
     "metadata": {},
     "output_type": "execute_result"
    }
   ],
   "source": [
    "df_X = pd.get_dummies(df.ix[:, ['manufacturer']])\n",
    "lr.fit(df_X, df.price_usd)\n",
    "print(lr.coef_.shape)\n",
    "print(lr.intercept_)\n",
    "lr.score(df_X, df.price_usd)"
   ]
  },
  {
   "cell_type": "markdown",
   "metadata": {
    "collapsed": true
   },
   "source": [
    "### Caliber (split)"
   ]
  },
  {
   "cell_type": "code",
   "execution_count": 20,
   "metadata": {
    "collapsed": false
   },
   "outputs": [
    {
     "name": "stdout",
     "output_type": "stream",
     "text": [
      "(196,)\n",
      "5.15073944774e+14\n"
     ]
    },
    {
     "data": {
      "text/plain": [
       "0.28252381621797251"
      ]
     },
     "execution_count": 20,
     "metadata": {},
     "output_type": "execute_result"
    }
   ],
   "source": [
    "df_X = pd.get_dummies(df.ix[:, ['caliber_nums', 'caliber_chars']])\n",
    "lr.fit(df_X, df.price_usd)\n",
    "print(lr.coef_.shape)\n",
    "print(lr.intercept_)\n",
    "lr.score(df_X, df.price_usd)"
   ]
  },
  {
   "cell_type": "markdown",
   "metadata": {},
   "source": [
    "### Caliber, Caliber (Split), Manufacturer, Category_2, Category_3"
   ]
  },
  {
   "cell_type": "code",
   "execution_count": 22,
   "metadata": {
    "collapsed": false
   },
   "outputs": [
    {
     "name": "stdout",
     "output_type": "stream",
     "text": [
      "(546,)\n",
      "4.81124225451e+14\n"
     ]
    },
    {
     "data": {
      "text/plain": [
       "0.48094472883499301"
      ]
     },
     "execution_count": 22,
     "metadata": {},
     "output_type": "execute_result"
    }
   ],
   "source": [
    "df_X = pd.get_dummies(df.ix[:, ['category_2', 'category_3', 'manufacturer', 'caliber', 'caliber_nums', 'caliber_chars']])\n",
    "lr.fit(df_X, df.price_usd)\n",
    "print(lr.coef_.shape)\n",
    "print(lr.intercept_)\n",
    "lr.score(df_X, df.price_usd)"
   ]
  },
  {
   "cell_type": "markdown",
   "metadata": {},
   "source": [
    "### Caliber, Caliber (Split), Manufacturer, Category_3"
   ]
  },
  {
   "cell_type": "code",
   "execution_count": 23,
   "metadata": {
    "collapsed": false
   },
   "outputs": [
    {
     "name": "stdout",
     "output_type": "stream",
     "text": [
      "(529,)\n",
      "-3.19273007843e+13\n"
     ]
    },
    {
     "data": {
      "text/plain": [
       "0.48110241180525842"
      ]
     },
     "execution_count": 23,
     "metadata": {},
     "output_type": "execute_result"
    }
   ],
   "source": [
    "df_X = pd.get_dummies(df.ix[:, ['category_3', 'manufacturer', 'caliber', 'caliber_nums', 'caliber_chars']])\n",
    "lr.fit(df_X, df.price_usd)\n",
    "print(lr.coef_.shape)\n",
    "print(lr.intercept_)\n",
    "lr.score(df_X, df.price_usd)"
   ]
  },
  {
   "cell_type": "markdown",
   "metadata": {},
   "source": [
    "### Caliber, Caliber (Split), Manufacturer, Category_2"
   ]
  },
  {
   "cell_type": "code",
   "execution_count": 25,
   "metadata": {
    "collapsed": false
   },
   "outputs": [
    {
     "name": "stdout",
     "output_type": "stream",
     "text": [
      "(537,)\n",
      "2.17830189871e+14\n"
     ]
    },
    {
     "data": {
      "text/plain": [
       "0.47962803590799552"
      ]
     },
     "execution_count": 25,
     "metadata": {},
     "output_type": "execute_result"
    }
   ],
   "source": [
    "df_X = pd.get_dummies(df.ix[:, ['category_2', 'manufacturer', 'caliber', 'caliber_nums', 'caliber_chars']])\n",
    "lr.fit(df_X, df.price_usd)\n",
    "print(lr.coef_.shape)\n",
    "print(lr.intercept_)\n",
    "lr.score(df_X, df.price_usd)"
   ]
  },
  {
   "cell_type": "markdown",
   "metadata": {},
   "source": [
    "### Category_2, Category_3"
   ]
  },
  {
   "cell_type": "code",
   "execution_count": 26,
   "metadata": {
    "collapsed": false
   },
   "outputs": [
    {
     "name": "stdout",
     "output_type": "stream",
     "text": [
      "(26,)\n",
      "-1.59223314298e+13\n"
     ]
    },
    {
     "data": {
      "text/plain": [
       "0.071030139216041288"
      ]
     },
     "execution_count": 26,
     "metadata": {},
     "output_type": "execute_result"
    }
   ],
   "source": [
    "df_X = pd.get_dummies(df.ix[:, ['category_2', 'category_3']])\n",
    "lr.fit(df_X, df.price_usd)\n",
    "print(lr.coef_.shape)\n",
    "print(lr.intercept_)\n",
    "lr.score(df_X, df.price_usd)"
   ]
  },
  {
   "cell_type": "code",
   "execution_count": 37,
   "metadata": {
    "collapsed": false
   },
   "outputs": [
    {
     "name": "stdout",
     "output_type": "stream",
     "text": [
      "(350,)\n",
      "302163642451.0\n"
     ]
    },
    {
     "data": {
      "text/plain": [
       "0.54179671133160201"
      ]
     },
     "execution_count": 37,
     "metadata": {},
     "output_type": "execute_result"
    }
   ],
   "source": [
    "df_X = pd.get_dummies(df.ix[:, ['category_2', 'category_3', 'manufacturer', 'caliber']])\n",
    "lr.fit(df_X, df.price_usd.apply(np.log))\n",
    "print(lr.coef_.shape)\n",
    "print(lr.intercept_)\n",
    "lr.score(df_X, df.price_usd.apply(np.log))"
   ]
  },
  {
   "cell_type": "code",
   "execution_count": 38,
   "metadata": {
    "collapsed": false
   },
   "outputs": [
    {
     "name": "stdout",
     "output_type": "stream",
     "text": [
      "(324,)\n",
      "-84192845863.4\n"
     ]
    },
    {
     "data": {
      "text/plain": [
       "0.53791073694284131"
      ]
     },
     "execution_count": 38,
     "metadata": {},
     "output_type": "execute_result"
    }
   ],
   "source": [
    "df_X = pd.get_dummies(df.ix[:, ['manufacturer', 'caliber']])\n",
    "lr.fit(df_X, df.price_usd.apply(np.log))\n",
    "print(lr.coef_.shape)\n",
    "print(lr.intercept_)\n",
    "lr.score(df_X, df.price_usd.apply(np.log))"
   ]
  },
  {
   "cell_type": "code",
   "execution_count": null,
   "metadata": {
    "collapsed": true
   },
   "outputs": [],
   "source": []
  }
 ],
 "metadata": {
  "kernelspec": {
   "display_name": "Python 3",
   "language": "python",
   "name": "python3"
  },
  "language_info": {
   "codemirror_mode": {
    "name": "ipython",
    "version": 3
   },
   "file_extension": ".py",
   "mimetype": "text/x-python",
   "name": "python",
   "nbconvert_exporter": "python",
   "pygments_lexer": "ipython3",
   "version": "3.5.1"
  }
 },
 "nbformat": 4,
 "nbformat_minor": 0
}
